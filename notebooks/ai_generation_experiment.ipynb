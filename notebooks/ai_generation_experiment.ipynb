{
 "cells": [
  {
   "cell_type": "markdown",
   "metadata": {},
   "source": [
    "# notebooks/Voice_Assistant_Experiments.ipynb\n",
    "\n",
    "# Cell 1: Testing speech recognition\n",
    "```python\n",
    "import speech_recognition as sr\n",
    "\n",
    "recognizer = sr.Recognizer()\n",
    "\n",
    "def listen():\n",
    "    with sr.Microphone() as source:\n",
    "        print(\"Listening...\")\n",
    "        audio = recognizer.listen(source)\n",
    "        try:\n",
    "            command = recognizer.recognize_google(audio)\n",
    "            return command.lower()\n",
    "        except sr.UnknownValueError:\n",
    "            return \"Sorry, I didn't catch that.\"\n",
    "\n",
    "print(listen())"
   ]
  },
  {
   "cell_type": "markdown",
   "metadata": {},
   "source": [
    "Testing AI code generation"
   ]
  },
  {
   "cell_type": "code",
   "execution_count": null,
   "metadata": {},
   "outputs": [],
   "source": [
    "from src.ai_helper import ai_generate_code\n",
    "\n",
    "print(ai_generate_code(\"switch audio device on Windows\"))"
   ]
  }
 ],
 "metadata": {
  "language_info": {
   "name": "python"
  }
 },
 "nbformat": 4,
 "nbformat_minor": 2
}
