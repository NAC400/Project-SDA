{
 "cells": [
  {
   "cell_type": "markdown",
   "metadata": {},
   "source": [
    "Unit Tests for Commands in tests/\n",
    "\n",
    "You can write unit tests in the tests/ folder to ensure your commands work as expected. For example, testing the audio switching function."
   ]
  },
  {
   "cell_type": "code",
   "execution_count": null,
   "metadata": {},
   "outputs": [],
   "source": [
    "# tests/test_commands.py\n",
    "import unittest\n",
    "from src.commands import execute_command\n",
    "\n",
    "class TestCommands(unittest.TestCase):\n",
    "    def test_switch_audio_command(self):\n",
    "        command = \"switch audio\"\n",
    "        result = execute_command(command)\n",
    "        self.assertIn(\"Switched audio\", result)\n",
    "\n",
    "if __name__ == \"__main__\":\n",
    "    unittest.main()"
   ]
  }
 ],
 "metadata": {
  "language_info": {
   "name": "python"
  }
 },
 "nbformat": 4,
 "nbformat_minor": 2
}
